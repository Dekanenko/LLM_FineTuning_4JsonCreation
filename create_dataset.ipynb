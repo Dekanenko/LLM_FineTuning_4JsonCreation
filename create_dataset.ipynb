{
 "cells": [
  {
   "cell_type": "code",
   "execution_count": 1,
   "metadata": {},
   "outputs": [],
   "source": [
    "from src.synthetic_generation import generate\n",
    "from src.prompts import (\n",
    "    CharacterNamesPair, \n",
    "    FictionalCharacterPair,\n",
    "    TShirtOrderPair,\n",
    "    FilmIdeaPair,\n",
    "    ItineraryPair,\n",
    "    RecipePair,\n",
    "    EventPair,\n",
    "    ResumePair,\n",
    "    GameArtifactPair,\n",
    "    BookReviewPair,\n",
    "    TextSummaryPair,\n",
    "    GameIdeaPair,\n",
    "    HousePair,\n",
    "    SollarSystemPair,\n",
    ")\n",
    "\n",
    "import asyncio\n",
    "asyncio.get_event_loop().set_debug(True)"
   ]
  },
  {
   "cell_type": "code",
   "execution_count": 2,
   "metadata": {},
   "outputs": [],
   "source": [
    "pairs = [\n",
    "    CharacterNamesPair(),\n",
    "    FictionalCharacterPair(),\n",
    "    TShirtOrderPair(),\n",
    "    FilmIdeaPair(),\n",
    "    ItineraryPair(),\n",
    "    RecipePair(),\n",
    "    EventPair(),\n",
    "    ResumePair(),\n",
    "    GameArtifactPair(),\n",
    "    BookReviewPair(),\n",
    "    TextSummaryPair(),\n",
    "    GameIdeaPair(),\n",
    "    HousePair(),\n",
    "    SollarSystemPair(),\n",
    "]\n",
    "\n",
    "sample_num = 20"
   ]
  },
  {
   "cell_type": "code",
   "execution_count": 3,
   "metadata": {},
   "outputs": [
    {
     "name": "stderr",
     "output_type": "stream",
     "text": [
      "\u001b[32m2025-02-22 20:51:24.444\u001b[0m | \u001b[34m\u001b[1mDEBUG   \u001b[0m | \u001b[36msrc.synthetic_generation\u001b[0m:\u001b[36m_json_generation\u001b[0m:\u001b[36m53\u001b[0m - \u001b[34m\u001b[1mError occured: \n",
      "Failed to parse Events from completion {\"events\": [{\"title\": \"Emily's Birthday Picnic\", \"date\": \"March 15\", \"start_time\": \"15:00\", \"end_time\": \"16:00\", \"location\": \"Central Park\", \"attendees\": [{\"name\": \"Emily\", \"email\": \"\", \"has_confirmed\": true}, {\"name\": \"Sarah\", \"email\": \"\", \"has_confirmed\": true}, {\"name\": \"Tom\", \"email\": \"\", \"has_confirmed\": true}, {\"name\": \"Alex\", \"email\": \"\", \"has_confirmed\": true}]}]}. Got: 4 validation errors for Events\n",
      "events.0.attendees.0.email\n",
      "  value is not a valid email address: An email address must have an @-sign. [type=value_error, input_value='', input_type=str]\n",
      "events.0.attendees.1.email\n",
      "  value is not a valid email address: An email address must have an @-sign. [type=value_error, input_value='', input_type=str]\n",
      "events.0.attendees.2.email\n",
      "  value is not a valid email address: An email address must have an @-sign. [type=value_error, input_value='', input_type=str]\n",
      "events.0.attendees.3.email\n",
      "  value is not a valid email address: An email address must have an @-sign. [type=value_error, input_value='', input_type=str]\n",
      "Retry num:2\u001b[0m\n"
     ]
    }
   ],
   "source": [
    "error_counter = 0\n",
    "tasks = [\n",
    "    generate(pair=pair, sample_num=sample_num)\n",
    "    for pair in pairs\n",
    "]\n",
    "\n",
    "all_results = []\n",
    "try:\n",
    "    results = await asyncio.gather(*tasks)\n",
    "    for result in results:\n",
    "        all_results.extend(result)\n",
    "except Exception as e:\n",
    "    print(f\"Error processing a chunk: {e}\")\n",
    "    error_counter += 1\n",
    "\n",
    "print(f\"Total errors: {error_counter}\")"
   ]
  },
  {
   "cell_type": "code",
   "execution_count": 4,
   "metadata": {},
   "outputs": [
    {
     "data": {
      "text/plain": [
       "{'input': '<|begin_of_text|><|start_header_id|>system<|end_header_id|>\\nYou are a name and surname extractor. Your task is to identify and extract the names and surnames of characters from the given text.\\n### Instructions:\\n1. Extract characters\\' names and surnames clearly.\\n2. Ensure that the JSON file contains a list of unique name-surname pairs (no duplicates).\\n\\n### Format Instructions:\\n1. Do NOT include headers, comments, or any additional text—only generate the JSON file.\\n2. Strictly adhere to the following JSON format:\\nThe output should be formatted as a JSON instance that conforms to the JSON schema below.\\n\\nAs an example, for the schema {\"properties\": {\"foo\": {\"title\": \"Foo\", \"description\": \"a list of strings\", \"type\": \"array\", \"items\": {\"type\": \"string\"}}}, \"required\": [\"foo\"]}\\nthe object {\"foo\": [\"bar\", \"baz\"]} is a well-formatted instance of the schema. The object {\"properties\": {\"foo\": [\"bar\", \"baz\"]}} is not well-formatted.\\n\\nHere is the output schema:\\n```\\n{\"$defs\": {\"FullName\": {\"properties\": {\"name\": {\"description\": \"Name of the character\", \"title\": \"Name\", \"type\": \"string\"}, \"surname\": {\"description\": \"Surname of the character\", \"title\": \"Surname\", \"type\": \"string\"}}, \"required\": [\"name\", \"surname\"], \"title\": \"FullName\", \"type\": \"object\"}}, \"properties\": {\"fullname_list\": {\"description\": \"List of full names for every character\", \"items\": {\"$ref\": \"#/$defs/FullName\"}, \"title\": \"Fullname List\", \"type\": \"array\"}}, \"required\": [\"fullname_list\"]}\\n```\\n\\n<|eot_id|>\\n<|start_header_id|>user<|end_header_id|>\\nIn the quaint village of Willowbrook, two old friends reunited after many years. Emma Thompson, a spirited artist with auburn hair, had returned from the bustling city to find solace in her childhood home. She set up her easel near the shimmering river, painting the vibrant landscapes that had once inspired her dreams.\\n\\nAcross the way, Liam Carter, a local botanist with a penchant for adventure, stumbled upon Emma while collecting rare wildflowers. His wild curls framed a sun-kissed face, and he wore a worn-out backpack filled with curiosities from the forest.\\n\\n“Emma! Is that you?” Liam exclaimed, a broad smile breaking across his face. \\n\\n“It’s been ages, Liam! Look at this place—still as beautiful as I remember,” she replied, her eyes sparkling with nostalgia.\\n\\nAs the sun began to set, casting golden hues over the village, they settled on the grass, sharing stories of their lives and ambitions. Time seemed to stand still as they rediscovered the bond forged in their childhood—a friendship that felt like home, ready to blossom anew amidst the blooming wildflowers.<|eot_id|>\\n<|start_header_id|>assistant<|end_header_id|>',\n",
       " 'output': '{\"fullname_list\":[{\"name\":\"Emma\",\"surname\":\"Thompson\"},{\"name\":\"Liam\",\"surname\":\"Carter\"}]}'}"
      ]
     },
     "execution_count": 4,
     "metadata": {},
     "output_type": "execute_result"
    }
   ],
   "source": [
    "all_results[0]"
   ]
  },
  {
   "cell_type": "code",
   "execution_count": 5,
   "metadata": {},
   "outputs": [],
   "source": [
    "import json\n",
    "\n",
    "with open('data/json_dataset.jsonl', 'w', encoding='utf-8') as f:\n",
    "    for item in all_results:\n",
    "        json.dump(item, f, ensure_ascii=False)\n",
    "        f.write('\\n')"
   ]
  },
  {
   "cell_type": "code",
   "execution_count": 6,
   "metadata": {},
   "outputs": [
    {
     "name": "stdout",
     "output_type": "stream",
     "text": [
      "Number of loaded items: 14\n",
      "First item sample: {'input': '<|begin_of_text|><|start_header_id|>system<|end_header_id|>\\nYou are a name and surname extractor. Your task is to identify and extract the names and surnames of characters from the given text.\\n### Instructions:\\n1. Extract characters\\' names and surnames clearly.\\n2. Ensure that the JSON file contains a list of unique name-surname pairs (no duplicates).\\n\\n### Format Instructions:\\n1. Do NOT include headers, comments, or any additional text—only generate the JSON file.\\n2. Strictly adhere to the following JSON format:\\nThe output should be formatted as a JSON instance that conforms to the JSON schema below.\\n\\nAs an example, for the schema {\"properties\": {\"foo\": {\"title\": \"Foo\", \"description\": \"a list of strings\", \"type\": \"array\", \"items\": {\"type\": \"string\"}}}, \"required\": [\"foo\"]}\\nthe object {\"foo\": [\"bar\", \"baz\"]} is a well-formatted instance of the schema. The object {\"properties\": {\"foo\": [\"bar\", \"baz\"]}} is not well-formatted.\\n\\nHere is the output schema:\\n```\\n{\"$defs\": {\"FullName\": {\"properties\": {\"name\": {\"description\": \"Name of the character\", \"title\": \"Name\", \"type\": \"string\"}, \"surname\": {\"description\": \"Surname of the character\", \"title\": \"Surname\", \"type\": \"string\"}}, \"required\": [\"name\", \"surname\"], \"title\": \"FullName\", \"type\": \"object\"}}, \"properties\": {\"fullname_list\": {\"description\": \"List of full names for every character\", \"items\": {\"$ref\": \"#/$defs/FullName\"}, \"title\": \"Fullname List\", \"type\": \"array\"}}, \"required\": [\"fullname_list\"]}\\n```\\n\\n<|eot_id|>\\n<|start_header_id|>user<|end_header_id|>\\nIn the quaint village of Willowbrook, two old friends reunited after many years. Emma Thompson, a spirited artist with auburn hair, had returned from the bustling city to find solace in her childhood home. She set up her easel near the shimmering river, painting the vibrant landscapes that had once inspired her dreams.\\n\\nAcross the way, Liam Carter, a local botanist with a penchant for adventure, stumbled upon Emma while collecting rare wildflowers. His wild curls framed a sun-kissed face, and he wore a worn-out backpack filled with curiosities from the forest.\\n\\n“Emma! Is that you?” Liam exclaimed, a broad smile breaking across his face. \\n\\n“It’s been ages, Liam! Look at this place—still as beautiful as I remember,” she replied, her eyes sparkling with nostalgia.\\n\\nAs the sun began to set, casting golden hues over the village, they settled on the grass, sharing stories of their lives and ambitions. Time seemed to stand still as they rediscovered the bond forged in their childhood—a friendship that felt like home, ready to blossom anew amidst the blooming wildflowers.<|eot_id|>\\n<|start_header_id|>assistant<|end_header_id|>', 'output': '{\"fullname_list\":[{\"name\":\"Emma\",\"surname\":\"Thompson\"},{\"name\":\"Liam\",\"surname\":\"Carter\"}]}'}\n"
     ]
    }
   ],
   "source": [
    "# Read the JSONL file back into a list\n",
    "loaded_results = []\n",
    "\n",
    "with open('data/json_dataset.jsonl', 'r', encoding='utf-8') as f:\n",
    "    for line in f:\n",
    "        loaded_results.append(json.loads(line.strip()))\n",
    "\n",
    "# Verify the length matches\n",
    "print(f\"Number of loaded items: {len(loaded_results)}\")\n",
    "print(f\"First item sample: {loaded_results[0]}\")"
   ]
  },
  {
   "cell_type": "code",
   "execution_count": null,
   "metadata": {},
   "outputs": [],
   "source": []
  }
 ],
 "metadata": {
  "kernelspec": {
   "display_name": "ai",
   "language": "python",
   "name": "python3"
  },
  "language_info": {
   "codemirror_mode": {
    "name": "ipython",
    "version": 3
   },
   "file_extension": ".py",
   "mimetype": "text/x-python",
   "name": "python",
   "nbconvert_exporter": "python",
   "pygments_lexer": "ipython3",
   "version": "3.11.9"
  }
 },
 "nbformat": 4,
 "nbformat_minor": 2
}

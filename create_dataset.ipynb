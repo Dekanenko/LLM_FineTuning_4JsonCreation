{
 "cells": [
  {
   "cell_type": "code",
   "execution_count": 1,
   "metadata": {},
   "outputs": [],
   "source": [
    "from src.synthetic_generation import generate\n",
    "from src.prompts import (\n",
    "    CharacterNamesPair, \n",
    "    FictionalCharacterPair,\n",
    "    TShirtOrderPair,\n",
    "    FilmIdeaPair,\n",
    "    ItineraryPair,\n",
    "    RecipePair,\n",
    "    EventPair,\n",
    "    ResumePair,\n",
    "    GameArtifactPair,\n",
    "    BookReviewPair,\n",
    "    TextSummaryPair,\n",
    "    GameIdeaPair,\n",
    "    HousePair,\n",
    "    SollarSystemPair,\n",
    ")\n",
    "\n",
    "import asyncio\n",
    "asyncio.get_event_loop().set_debug(True)"
   ]
  },
  {
   "cell_type": "code",
   "execution_count": 2,
   "metadata": {},
   "outputs": [],
   "source": [
    "pairs = [\n",
    "    CharacterNamesPair(),\n",
    "    FictionalCharacterPair(),\n",
    "    TShirtOrderPair(),\n",
    "    FilmIdeaPair(),\n",
    "    ItineraryPair(),\n",
    "    RecipePair(),\n",
    "    EventPair(),\n",
    "    ResumePair(),\n",
    "    GameArtifactPair(),\n",
    "    BookReviewPair(),\n",
    "    TextSummaryPair(),\n",
    "    GameIdeaPair(),\n",
    "    HousePair(),\n",
    "    SollarSystemPair(),\n",
    "]\n",
    "\n",
    "sample_num = 3"
   ]
  },
  {
   "cell_type": "code",
   "execution_count": 3,
   "metadata": {},
   "outputs": [
    {
     "name": "stderr",
     "output_type": "stream",
     "text": [
      "\u001b[32m2025-02-23 16:26:40.762\u001b[0m | \u001b[34m\u001b[1mDEBUG   \u001b[0m | \u001b[36msrc.synthetic_generation\u001b[0m:\u001b[36m_json_generation\u001b[0m:\u001b[36m53\u001b[0m - \u001b[34m\u001b[1mError occured: \n",
      "Failed to parse Events from completion {\"events\": [{\"title\": \"Garden Tea Party\", \"date\": \"2023-03-15\", \"start_time\": \"15:00\", \"end_time\": \"\", \"location\": \"Sarah's home in Willow Creek\", \"attendees\": [{\"name\": \"Sarah\", \"email\": \"\", \"has_confirmed\": true}, {\"name\": \"Emily\", \"email\": \"\", \"has_confirmed\": true}, {\"name\": \"Jack\", \"email\": \"\", \"has_confirmed\": true}]}, {\"title\": \"Game Night\", \"date\": \"2023-03-22\", \"start_time\": \"18:00\", \"end_time\": \"\", \"location\": \"Tom's apartment downtown\", \"attendees\": [{\"name\": \"Tom\", \"email\": \"\", \"has_confirmed\": true}, {\"name\": \"Ryan\", \"email\": \"\", \"has_confirmed\": false}, {\"name\": \"Lisa\", \"email\": \"\", \"has_confirmed\": true}]}]}. Got: 6 validation errors for Events\n",
      "events.0.attendees.0.email\n",
      "  value is not a valid email address: An email address must have an @-sign. [type=value_error, input_value='', input_type=str]\n",
      "events.0.attendees.1.email\n",
      "  value is not a valid email address: An email address must have an @-sign. [type=value_error, input_value='', input_type=str]\n",
      "events.0.attendees.2.email\n",
      "  value is not a valid email address: An email address must have an @-sign. [type=value_error, input_value='', input_type=str]\n",
      "events.1.attendees.0.email\n",
      "  value is not a valid email address: An email address must have an @-sign. [type=value_error, input_value='', input_type=str]\n",
      "events.1.attendees.1.email\n",
      "  value is not a valid email address: An email address must have an @-sign. [type=value_error, input_value='', input_type=str]\n",
      "events.1.attendees.2.email\n",
      "  value is not a valid email address: An email address must have an @-sign. [type=value_error, input_value='', input_type=str]\n",
      "Retry num:2\u001b[0m\n",
      "\u001b[32m2025-02-23 16:26:50.055\u001b[0m | \u001b[34m\u001b[1mDEBUG   \u001b[0m | \u001b[36msrc.synthetic_generation\u001b[0m:\u001b[36m_json_generation\u001b[0m:\u001b[36m53\u001b[0m - \u001b[34m\u001b[1mError occured: \n",
      "Failed to parse Events from completion {\"events\": [{\"title\": \"Garden Tea Party\", \"date\": \"2024-06-15\", \"start_time\": \"15:00\", \"end_time\": null, \"location\": \"Sarah's home in Willow Creek\", \"attendees\": [{\"name\": \"Emily\", \"email\": \"emily@example.com\", \"has_confirmed\": true}, {\"name\": \"Jake\", \"email\": \"jake@example.com\", \"has_confirmed\": true}, {\"name\": \"Mia\", \"email\": \"mia@example.com\", \"has_confirmed\": true}]}, {\"title\": \"Board Game Night\", \"date\": \"2024-07-08\", \"start_time\": \"19:00\", \"end_time\": null, \"location\": \"Jake's apartment downtown\", \"attendees\": [{\"name\": \"Kevin\", \"email\": \"kevin@example.com\", \"has_confirmed\": false}, {\"name\": \"Lila\", \"email\": \"lila@example.com\", \"has_confirmed\": false}, {\"name\": \"Aidan\", \"email\": \"aidan@example.com\", \"has_confirmed\": false}]}, {\"title\": \"Hiking Trip\", \"date\": \"2024-08-22\", \"start_time\": \"08:00\", \"end_time\": null, \"location\": \"Pine Ridge Trail\", \"attendees\": [{\"name\": \"Sarah\", \"email\": \"sarah@example.com\", \"has_confirmed\": true}, {\"name\": \"Emily\", \"email\": \"emily@example.com\", \"has_confirmed\": true}]}]}. Got: 3 validation errors for Events\n",
      "events.0.end_time\n",
      "  Input should be a valid string [type=string_type, input_value=None, input_type=NoneType]\n",
      "    For further information visit https://errors.pydantic.dev/2.8/v/string_type\n",
      "events.1.end_time\n",
      "  Input should be a valid string [type=string_type, input_value=None, input_type=NoneType]\n",
      "    For further information visit https://errors.pydantic.dev/2.8/v/string_type\n",
      "events.2.end_time\n",
      "  Input should be a valid string [type=string_type, input_value=None, input_type=NoneType]\n",
      "    For further information visit https://errors.pydantic.dev/2.8/v/string_type\n",
      "Retry num:2\u001b[0m\n",
      "\u001b[32m2025-02-23 16:27:33.427\u001b[0m | \u001b[34m\u001b[1mDEBUG   \u001b[0m | \u001b[36msrc.synthetic_generation\u001b[0m:\u001b[36m_json_generation\u001b[0m:\u001b[36m53\u001b[0m - \u001b[34m\u001b[1mError occured: \n",
      "Failed to parse Itinerary from completion {\"traveler_name\": \"John Doe\", \"destination\": \"Barcelona, Spain\", \"start_date\": \"2024-05-01\", \"end_date\": \"2024-05-07\", \"activities\": [{\"name\": \"Visit Sagrada Fam\\u00edlia\", \"start_time\": \"2024-05-01T09:00:00\", \"end_time\": \"2024-05-01T11:00:00\", \"location\": \"Sagrada Fam\\u00edlia, Carrer de Mallorca, 401, 08013 Barcelona, Spain\", \"cost\": 26}, {\"name\": \"Explore Park G\\u00fcell\", \"start_time\": \"2024-05-01T11:30:00\", \"end_time\": \"2024-05-01T13:00:00\", \"location\": \"Park G\\u00fcell, Carrer d'Olot, s/n, 08024 Barcelona, Spain\", \"cost\": 10}, {\"name\": \"Lunch at El Xampanyet\", \"start_time\": \"2024-05-01T13:30:00\", \"end_time\": \"2024-05-01T14:30:00\", \"location\": \"El Xampanyet, Carrer de Montcada, 22, 08003 Barcelona, Spain\", \"cost\": 25}, {\"name\": \"Visit Picasso Museum\", \"start_time\": \"2024-05-01T15:00:00\", \"end_time\": \"2024-05-01T17:00:00\", \"location\": \"Picasso Museum, Carrer de Montcada, 15-23, 08003 Barcelona, Spain\", \"cost\": 12}, {\"name\": \"Dinner at La Paradeta\", \"start_time\": \"2024-05-01T19:00:00\", \"end_time\": \"2024-05-01T21:00:00\", \"location\": \"La Paradeta, Carrer de Pau Claris, 145, 08009 Barcelona, Spain\", \"cost\": 35}, {\"name\": \"Day Trip to Montserrat\", \"start_time\": \"2024-05-02T08:00:00\", \"end_time\": \"2024-05-02T18:00:00\", \"location\": \"Montserrat, 08199 Montserrat, Barcelona, Spain\", \"cost\": 40}, {\"name\": \"Attend Flamenco Show\", \"start_time\": \"2024-05-02T20:00:00\", \"end_time\": \"2024-05-02T22:00:00\", \"location\": \"Tablao Flamenco Cordob\\u00e9s, La Rambla, 35, 08002 Barcelona, Spain\", \"cost\": 50}, {\"name\": \"Visit Gothic Quarter\", \"start_time\": \"2024-05-03T09:00:00\", \"end_time\": \"2024-05-03T12:00:00\", \"location\": \"Gothic Quarter, 08002 Barcelona, Spain\", \"cost\": null}, {\"name\": \"Lunch at Caf\\u00e9 de l'Academia\", \"start_time\": \"2024-05-03T12:30:00\", \"end_time\": \"2024-05-03T13:30:00\", \"location\": \"Caf\\u00e9 de l'Academia, Carrer de L'Academia, 1, 08001 Barcelona, Spain\", \"cost\": 30}, {\"name\": \"Visit La Rambla\", \"start_time\": \"2024-05-03T14:00:00\", \"end_time\": \"2024-05-03T16:00:00\", \"location\": \"La Rambla, 08002 Barcelona, Spain\", \"cost\": null}, {\"name\": \"Dinner at Can Culleretes\", \"start_time\": \"2024-05-03T19:00:00\", \"end_time\": \"2024-05-03T21:00:00\", \"location\": \"Can Culleretes, Carrer d'en Quintana, 5, 08002 Barcelona, Spain\", \"cost\": 40}, {\"name\": \"Visit Casa Batll\\u00f3\", \"start_time\": \"2024-05-04T09:00:00\", \"end_time\": \"2024-05-04T11:00:00\", \"location\": \"Casa Batll\\u00f3, Passeig de Gr\\u00e0cia, 43, 08007 Barcelona, Spain\", \"cost\": 25}, {\"name\": \"Explore Passeig de Gr\\u00e0cia\", \"start_time\": \"2024-05-04T11:30:00\", \"end_time\": \"2024-05-04T13:00:00\", \"location\": \"Passeig de Gr\\u00e0cia, 08007 Barcelona, Spain\", \"cost\": null}, {\"name\": \"Lunch at Cervecer\\u00eda Catalana\", \"start_time\": \"2024-05-04T13:30:00\", \"end_time\": \"2024-05-04T14:30:00\", \"location\": \"Cervecer\\u00eda Catalana, Carrer de Mallorca, 236, 08008 Barcelona, Spain\", \"cost\": 30}, {\"name\": \"Visit Camp Nou\", \"start_time\": \"2024-05-04T15:00:00\", \"end_time\": \"2024-05-04T17:00:00\", \"location\": \"Camp Nou, Carrer d'Aristides Maillol, 12, 08028 Barcelona, Spain\", \"cost\": 28}, {\"name\": \"Dinner at Tickets\", \"start_time\": \"2024-05-04T19:00:00\", \"end_time\": \"2024-05-04T21:00:00\", \"location\": \"Tickets, Avinguda del Paral\\u00b7lel, 164, 08015 Barcelona, Spain\", \"cost\": 100}, {\"name\": \"Relax at Barceloneta Beach\", \"start_time\": \"2024-05-05T10:00:00\", \"end_time\": \"2024-05-05T12:00:00\", \"location\": \"Barceloneta Beach, Passeig Mar\\u00edtim de la Barceloneta, 08003 Barcelona, Spain\", \"cost\": null}, {\"name\": \"Lunch at La Brisa\", \"start_time\": \"2024-05-05T12:30:00\", \"end_time\": \"2024-05-05T13:30:00\", \"location\": \"La Brisa, Passeig de Joan de Borb\\u00f3, 33, 08003 Barcelona, Spain\", \"cost\": 30}, {\"name\": \"Visit the Magic Fountain of Montju\\u00efc\", \"start_time\": \"2024-05-05T14:00:00\", \"end_time\": \"2024-05-05T16:00:00\", \"location\": \"Magic Fountain of Montju\\u00efc, Pla\\u00e7a de Carles Bu\\u00efgas, 1, 08038 Barcelona, Spain\", \"cost\": null}, {\"name\": \"Dinner at La Fonda\", \"start_time\": \"2024-05-05T19:00:00\", \"end_time\": \"2024-05-05T21:00:00\", \"location\": \"La Fonda, Carrer de la Palla, 10, 08002 Barcelona, Spain\", \"cost\": 35}, {\"name\": \"Pack and Leisure Time\", \"start_time\": \"2024-05-06T09:00:00\", \"end_time\": \"2024-05-06T12:00:00\", \"location\": \"Accommodation\", \"cost\": null}, {\"name\": \"Visit Mercat de Sant Josep de la Boqueria\", \"start_time\": \"2024-05-06T12:30:00\", \"end_time\": \"2024-05-06T14:00:00\", \"location\": \"Mercat de Sant Josep de la Boqueria, La Rambla, 91, 08001 Barcelona, Spain\", \"cost\": null}, {\"name\": \"Lunch at El Quim de la Boqueria\", \"start_time\": \"2024-05-06T14:30:00\", \"end_time\": \"2024-05-06T15:30:00\", \"location\": \"El Quim de la Boqueria, La Rambla, 91, 08001 Barcelona, Spain\", \"cost\": 25}, {\"name\": \"Last-minute Shopping\", \"start_time\": \"2024-05-06T16:00:00\", \"end_time\": \"2024-05-06T18\"}]}. Got: 2 validation errors for Itinerary\n",
      "activities.23.location\n",
      "  Field required [type=missing, input_value={'name': 'Last-minute Sho..._time': '2024-05-06T18'}, input_type=dict]\n",
      "    For further information visit https://errors.pydantic.dev/2.8/v/missing\n",
      "transports\n",
      "  Field required [type=missing, input_value={'traveler_name': 'John D...ime': '2024-05-06T18'}]}, input_type=dict]\n",
      "    For further information visit https://errors.pydantic.dev/2.8/v/missing\n",
      "Retry num:2\u001b[0m\n",
      "\u001b[32m2025-02-23 16:27:55.413\u001b[0m | \u001b[34m\u001b[1mDEBUG   \u001b[0m | \u001b[36msrc.synthetic_generation\u001b[0m:\u001b[36m_json_generation\u001b[0m:\u001b[36m53\u001b[0m - \u001b[34m\u001b[1mError occured: \n",
      "Failed to parse Itinerary from completion {\"traveler_name\": \"John Doe\", \"destination\": \"Barcelona, Spain\", \"start_date\": \"2024-05-01\", \"end_date\": \"2024-05-07\", \"activities\": [{\"name\": \"Visit Sagrada Fam\\u00edlia\", \"start_time\": \"2024-05-01T09:00:00\", \"end_time\": \"2024-05-01T11:00:00\", \"location\": \"Sagrada Fam\\u00edlia, Carrer de Mallorca, 401, 08013 Barcelona, Spain\", \"cost\": 26}, {\"name\": \"Explore Park G\\u00fcell\", \"start_time\": \"2024-05-01T11:30:00\", \"end_time\": \"2024-05-01T13:00:00\", \"location\": \"Park G\\u00fcell, Carrer d'Olot, s/n, 08024 Barcelona, Spain\", \"cost\": 10}, {\"name\": \"Lunch at El Xampanyet\", \"start_time\": \"2024-05-01T13:30:00\", \"end_time\": \"2024-05-01T14:30:00\", \"location\": \"El Xampanyet, Carrer de Montcada, 22, 08003 Barcelona, Spain\", \"cost\": 25}, {\"name\": \"Visit Picasso Museum\", \"start_time\": \"2024-05-01T15:00:00\", \"end_time\": \"2024-05-01T17:00:00\", \"location\": \"Picasso Museum, Carrer de Montcada, 15-23, 08003 Barcelona, Spain\", \"cost\": 12}, {\"name\": \"Dinner at La Paradeta\", \"start_time\": \"2024-05-01T19:00:00\", \"end_time\": \"2024-05-01T21:00:00\", \"location\": \"La Paradeta, Carrer de Pau Claris, 145, 08009 Barcelona, Spain\", \"cost\": 35}, {\"name\": \"Day Trip to Montserrat\", \"start_time\": \"2024-05-02T08:00:00\", \"end_time\": \"2024-05-02T18:00:00\", \"location\": \"Montserrat, 08199 Montserrat, Barcelona, Spain\", \"cost\": 40}, {\"name\": \"Attend Flamenco Show\", \"start_time\": \"2024-05-02T20:00:00\", \"end_time\": \"2024-05-02T22:00:00\", \"location\": \"Tablao Flamenco Cordob\\u00e9s, La Rambla, 35, 08002 Barcelona, Spain\", \"cost\": 50}, {\"name\": \"Visit Gothic Quarter\", \"start_time\": \"2024-05-03T09:00:00\", \"end_time\": \"2024-05-03T12:00:00\", \"location\": \"Gothic Quarter, 08002 Barcelona, Spain\", \"cost\": null}, {\"name\": \"Lunch at Caf\\u00e9 de l'Academia\", \"start_time\": \"2024-05-03T12:30:00\", \"end_time\": \"2024-05-03T13:30:00\", \"location\": \"Caf\\u00e9 de l'Academia, Carrer de L'Academia, 1, 08001 Barcelona, Spain\", \"cost\": 30}, {\"name\": \"Visit La Rambla\", \"start_time\": \"2024-05-03T14:00:00\", \"end_time\": \"2024-05-03T16:00:00\", \"location\": \"La Rambla, 08002 Barcelona, Spain\", \"cost\": null}, {\"name\": \"Dinner at Can Culleretes\", \"start_time\": \"2024-05-03T19:00:00\", \"end_time\": \"2024-05-03T21:00:00\", \"location\": \"Can Culleretes, Carrer d'en Quintana, 5, 08002 Barcelona, Spain\", \"cost\": 40}, {\"name\": \"Visit Casa Batll\\u00f3\", \"start_time\": \"2024-05-04T09:00:00\", \"end_time\": \"2024-05-04T11:00:00\", \"location\": \"Casa Batll\\u00f3, Passeig de Gr\\u00e0cia, 43, 08007 Barcelona, Spain\", \"cost\": 25}, {\"name\": \"Explore Passeig de Gr\\u00e0cia\", \"start_time\": \"2024-05-04T11:30:00\", \"end_time\": \"2024-05-04T13:00:00\", \"location\": \"Passeig de Gr\\u00e0cia, 08007 Barcelona, Spain\", \"cost\": null}, {\"name\": \"Lunch at Cervecer\\u00eda Catalana\", \"start_time\": \"2024-05-04T13:30:00\", \"end_time\": \"2024-05-04T14:30:00\", \"location\": \"Cervecer\\u00eda Catalana, Carrer de Mallorca, 236, 08008 Barcelona, Spain\", \"cost\": 30}, {\"name\": \"Visit Camp Nou\", \"start_time\": \"2024-05-04T15:00:00\", \"end_time\": \"2024-05-04T17:00:00\", \"location\": \"Camp Nou, Carrer d'Aristides Maillol, 12, 08028 Barcelona, Spain\", \"cost\": 28}, {\"name\": \"Dinner at Tickets\", \"start_time\": \"2024-05-04T19:00:00\", \"end_time\": \"2024-05-04T21:00:00\", \"location\": \"Tickets, Avinguda del Paral\\u00b7lel, 164, 08015 Barcelona, Spain\", \"cost\": 100}, {\"name\": \"Relax at Barceloneta Beach\", \"start_time\": \"2024-05-05T10:00:00\", \"end_time\": \"2024-05-05T12:00:00\", \"location\": \"Barceloneta Beach, Passeig Mar\\u00edtim de la Barceloneta, 08003 Barcelona, Spain\", \"cost\": null}, {\"name\": \"Lunch at La Brisa\", \"start_time\": \"2024-05-05T12:30:00\", \"end_time\": \"2024-05-05T13:30:00\", \"location\": \"La Brisa, Passeig de Joan de Borb\\u00f3, 33, 08003 Barcelona, Spain\", \"cost\": 30}, {\"name\": \"Visit the Magic Fountain of Montju\\u00efc\", \"start_time\": \"2024-05-05T14:00:00\", \"end_time\": \"2024-05-05T16:00:00\", \"location\": \"Magic Fountain of Montju\\u00efc, Pla\\u00e7a de Carles Bu\\u00efgas, 1, 08038 Barcelona, Spain\", \"cost\": null}, {\"name\": \"Dinner at La Fonda\", \"start_time\": \"2024-05-05T19:00:00\", \"end_time\": \"2024-05-05T21:00:00\", \"location\": \"La Fonda, Carrer de la Palla, 10, 08002 Barcelona, Spain\", \"cost\": 35}, {\"name\": \"Pack and Leisure Time\", \"start_time\": \"2024-05-06T09:00:00\", \"end_time\": \"2024-05-06T12:00:00\", \"location\": \"Accommodation\", \"cost\": null}, {\"name\": \"Visit Mercat de Sant Josep de la Boqueria\", \"start_time\": \"2024-05-06T12:30:00\", \"end_time\": \"2024-05-06T14:00:00\", \"location\": \"Mercat de Sant Josep de la Boqueria, La Rambla, 91, 08001 Barcelona, Spain\", \"cost\": null}, {\"name\": \"Lunch at El Quim de la Boqueria\", \"start_time\": \"2024-05-06T14:30:00\", \"end_time\": \"2024-05-06T15:30:00\", \"location\": \"El Quim de la Boqueria, La Rambla, 91, 08001 Barcelona, Spain\", \"cost\": 25}, {\"name\": \"Last-minute Shopping\", \"start_time\": \"2024-05-06T16:00:00\", \"end_time\": \"2024-05-06T18\"}]}. Got: 2 validation errors for Itinerary\n",
      "activities.23.location\n",
      "  Field required [type=missing, input_value={'name': 'Last-minute Sho..._time': '2024-05-06T18'}, input_type=dict]\n",
      "    For further information visit https://errors.pydantic.dev/2.8/v/missing\n",
      "transports\n",
      "  Field required [type=missing, input_value={'traveler_name': 'John D...ime': '2024-05-06T18'}]}, input_type=dict]\n",
      "    For further information visit https://errors.pydantic.dev/2.8/v/missing\n",
      "Retry num:1\u001b[0m\n",
      "\u001b[32m2025-02-23 16:28:26.574\u001b[0m | \u001b[34m\u001b[1mDEBUG   \u001b[0m | \u001b[36msrc.synthetic_generation\u001b[0m:\u001b[36m_json_generation\u001b[0m:\u001b[36m53\u001b[0m - \u001b[34m\u001b[1mError occured: \n",
      "Failed to parse Itinerary from completion {\"traveler_name\": \"John Doe\", \"destination\": \"Barcelona, Spain\", \"start_date\": \"2024-05-01\", \"end_date\": \"2024-05-07\", \"activities\": [{\"name\": \"Visit Sagrada Fam\\u00edlia\", \"start_time\": \"2024-05-01T09:00:00\", \"end_time\": \"2024-05-01T11:00:00\", \"location\": \"Sagrada Fam\\u00edlia, Carrer de Mallorca, 401, 08013 Barcelona, Spain\", \"cost\": 26}, {\"name\": \"Explore Park G\\u00fcell\", \"start_time\": \"2024-05-01T11:30:00\", \"end_time\": \"2024-05-01T13:00:00\", \"location\": \"Park G\\u00fcell, Carrer d'Olot, s/n, 08024 Barcelona, Spain\", \"cost\": 10}, {\"name\": \"Lunch at El Xampanyet\", \"start_time\": \"2024-05-01T13:30:00\", \"end_time\": \"2024-05-01T14:30:00\", \"location\": \"El Xampanyet, Carrer de Montcada, 22, 08003 Barcelona, Spain\", \"cost\": 25}, {\"name\": \"Visit Picasso Museum\", \"start_time\": \"2024-05-01T15:00:00\", \"end_time\": \"2024-05-01T17:00:00\", \"location\": \"Picasso Museum, Carrer de Montcada, 15-23, 08003 Barcelona, Spain\", \"cost\": 12}, {\"name\": \"Dinner at La Paradeta\", \"start_time\": \"2024-05-01T19:00:00\", \"end_time\": \"2024-05-01T21:00:00\", \"location\": \"La Paradeta, Carrer de Pau Claris, 145, 08009 Barcelona, Spain\", \"cost\": 35}, {\"name\": \"Day Trip to Montserrat\", \"start_time\": \"2024-05-02T08:00:00\", \"end_time\": \"2024-05-02T18:00:00\", \"location\": \"Montserrat, 08199 Montserrat, Barcelona, Spain\", \"cost\": 40}, {\"name\": \"Attend Flamenco Show\", \"start_time\": \"2024-05-02T20:00:00\", \"end_time\": \"2024-05-02T22:00:00\", \"location\": \"Tablao Flamenco Cordob\\u00e9s, La Rambla, 35, 08002 Barcelona, Spain\", \"cost\": 50}, {\"name\": \"Visit Gothic Quarter\", \"start_time\": \"2024-05-03T09:00:00\", \"end_time\": \"2024-05-03T12:00:00\", \"location\": \"Gothic Quarter, 08002 Barcelona, Spain\", \"cost\": null}, {\"name\": \"Lunch at Caf\\u00e9 de l'Academia\", \"start_time\": \"2024-05-03T12:30:00\", \"end_time\": \"2024-05-03T13:30:00\", \"location\": \"Caf\\u00e9 de l'Academia, Carrer de L'Academia, 1, 08001 Barcelona, Spain\", \"cost\": 30}, {\"name\": \"Visit La Rambla\", \"start_time\": \"2024-05-03T14:00:00\", \"end_time\": \"2024-05-03T16:00:00\", \"location\": \"La Rambla, 08002 Barcelona, Spain\", \"cost\": null}, {\"name\": \"Dinner at Can Culleretes\", \"start_time\": \"2024-05-03T19:00:00\", \"end_time\": \"2024-05-03T21:00:00\", \"location\": \"Can Culleretes, Carrer d'en Quintana, 5, 08002 Barcelona, Spain\", \"cost\": 40}, {\"name\": \"Visit Casa Batll\\u00f3\", \"start_time\": \"2024-05-04T09:00:00\", \"end_time\": \"2024-05-04T11:00:00\", \"location\": \"Casa Batll\\u00f3, Passeig de Gr\\u00e0cia, 43, 08007 Barcelona, Spain\", \"cost\": 25}, {\"name\": \"Explore Passeig de Gr\\u00e0cia\", \"start_time\": \"2024-05-04T11:30:00\", \"end_time\": \"2024-05-04T13:00:00\", \"location\": \"Passeig de Gr\\u00e0cia, 08007 Barcelona, Spain\", \"cost\": null}, {\"name\": \"Lunch at Cervecer\\u00eda Catalana\", \"start_time\": \"2024-05-04T13:30:00\", \"end_time\": \"2024-05-04T14:30:00\", \"location\": \"Cervecer\\u00eda Catalana, Carrer de Mallorca, 236, 08008 Barcelona, Spain\", \"cost\": 30}, {\"name\": \"Visit Camp Nou\", \"start_time\": \"2024-05-04T15:00:00\", \"end_time\": \"2024-05-04T17:00:00\", \"location\": \"Camp Nou, Carrer d'Aristides Maillol, 12, 08028 Barcelona, Spain\", \"cost\": 28}, {\"name\": \"Dinner at Tickets\", \"start_time\": \"2024-05-04T19:00:00\", \"end_time\": \"2024-05-04T21:00:00\", \"location\": \"Tickets, Avinguda del Paral\\u00b7lel, 164, 08015 Barcelona, Spain\", \"cost\": 100}, {\"name\": \"Relax at Barceloneta Beach\", \"start_time\": \"2024-05-05T10:00:00\", \"end_time\": \"2024-05-05T12:00:00\", \"location\": \"Barceloneta Beach, Passeig Mar\\u00edtim de la Barceloneta, 08003 Barcelona, Spain\", \"cost\": null}, {\"name\": \"Lunch at La Brisa\", \"start_time\": \"2024-05-05T12:30:00\", \"end_time\": \"2024-05-05T13:30:00\", \"location\": \"La Brisa, Passeig de Joan de Borb\\u00f3, 33, 08003 Barcelona, Spain\", \"cost\": 30}, {\"name\": \"Visit the Magic Fountain of Montju\\u00efc\", \"start_time\": \"2024-05-05T14:00:00\", \"end_time\": \"2024-05-05T16:00:00\", \"location\": \"Magic Fountain of Montju\\u00efc, Pla\\u00e7a de Carles Bu\\u00efgas, 1, 08038 Barcelona, Spain\", \"cost\": null}, {\"name\": \"Dinner at La Fonda\", \"start_time\": \"2024-05-05T19:00:00\", \"end_time\": \"2024-05-05T21:00:00\", \"location\": \"La Fonda, Carrer de la Palla, 10, 08002 Barcelona, Spain\", \"cost\": 35}, {\"name\": \"Pack and Leisure Time\", \"start_time\": \"2024-05-06T09:00:00\", \"end_time\": \"2024-05-06T12:00:00\", \"location\": \"Accommodation\", \"cost\": null}, {\"name\": \"Visit Mercat de Sant Josep de la Boqueria\", \"start_time\": \"2024-05-06T12:30:00\", \"end_time\": \"2024-05-06T14:00:00\", \"location\": \"Mercat de Sant Josep de la Boqueria, La Rambla, 91, 08001 Barcelona, Spain\", \"cost\": null}, {\"name\": \"Lunch at El Quim de la Boqueria\", \"start_time\": \"2024-05-06T14:30:00\", \"end_time\": \"2024-05-06T15:30:00\", \"location\": \"El Quim de la Boqueria, La Rambla, 91, 08001 Barcelona, Spain\", \"cost\": 25}, {\"name\": \"Last-minute Shopping\", \"start_time\": \"2024-05-06T16:00:00\", \"end_time\": \"2024-05-06T18\"}]}. Got: 2 validation errors for Itinerary\n",
      "activities.23.location\n",
      "  Field required [type=missing, input_value={'name': 'Last-minute Sho..._time': '2024-05-06T18'}, input_type=dict]\n",
      "    For further information visit https://errors.pydantic.dev/2.8/v/missing\n",
      "transports\n",
      "  Field required [type=missing, input_value={'traveler_name': 'John D...ime': '2024-05-06T18'}]}, input_type=dict]\n",
      "    For further information visit https://errors.pydantic.dev/2.8/v/missing\n",
      "Retry num:0\u001b[0m\n",
      "\u001b[32m2025-02-23 16:28:26.575\u001b[0m | \u001b[33m\u001b[1mWARNING \u001b[0m | \u001b[36msrc.synthetic_generation\u001b[0m:\u001b[36m_json_generation\u001b[0m:\u001b[36m55\u001b[0m - \u001b[33m\u001b[1mCannot parse the string, last error:\n",
      "Failed to parse Itinerary from completion {\"traveler_name\": \"John Doe\", \"destination\": \"Barcelona, Spain\", \"start_date\": \"2024-05-01\", \"end_date\": \"2024-05-07\", \"activities\": [{\"name\": \"Visit Sagrada Fam\\u00edlia\", \"start_time\": \"2024-05-01T09:00:00\", \"end_time\": \"2024-05-01T11:00:00\", \"location\": \"Sagrada Fam\\u00edlia, Carrer de Mallorca, 401, 08013 Barcelona, Spain\", \"cost\": 26}, {\"name\": \"Explore Park G\\u00fcell\", \"start_time\": \"2024-05-01T11:30:00\", \"end_time\": \"2024-05-01T13:00:00\", \"location\": \"Park G\\u00fcell, Carrer d'Olot, s/n, 08024 Barcelona, Spain\", \"cost\": 10}, {\"name\": \"Lunch at El Xampanyet\", \"start_time\": \"2024-05-01T13:30:00\", \"end_time\": \"2024-05-01T14:30:00\", \"location\": \"El Xampanyet, Carrer de Montcada, 22, 08003 Barcelona, Spain\", \"cost\": 25}, {\"name\": \"Visit Picasso Museum\", \"start_time\": \"2024-05-01T15:00:00\", \"end_time\": \"2024-05-01T17:00:00\", \"location\": \"Picasso Museum, Carrer de Montcada, 15-23, 08003 Barcelona, Spain\", \"cost\": 12}, {\"name\": \"Dinner at La Paradeta\", \"start_time\": \"2024-05-01T19:00:00\", \"end_time\": \"2024-05-01T21:00:00\", \"location\": \"La Paradeta, Carrer de Pau Claris, 145, 08009 Barcelona, Spain\", \"cost\": 35}, {\"name\": \"Day Trip to Montserrat\", \"start_time\": \"2024-05-02T08:00:00\", \"end_time\": \"2024-05-02T18:00:00\", \"location\": \"Montserrat, 08199 Montserrat, Barcelona, Spain\", \"cost\": 40}, {\"name\": \"Attend Flamenco Show\", \"start_time\": \"2024-05-02T20:00:00\", \"end_time\": \"2024-05-02T22:00:00\", \"location\": \"Tablao Flamenco Cordob\\u00e9s, La Rambla, 35, 08002 Barcelona, Spain\", \"cost\": 50}, {\"name\": \"Visit Gothic Quarter\", \"start_time\": \"2024-05-03T09:00:00\", \"end_time\": \"2024-05-03T12:00:00\", \"location\": \"Gothic Quarter, 08002 Barcelona, Spain\", \"cost\": null}, {\"name\": \"Lunch at Caf\\u00e9 de l'Academia\", \"start_time\": \"2024-05-03T12:30:00\", \"end_time\": \"2024-05-03T13:30:00\", \"location\": \"Caf\\u00e9 de l'Academia, Carrer de L'Academia, 1, 08001 Barcelona, Spain\", \"cost\": 30}, {\"name\": \"Visit La Rambla\", \"start_time\": \"2024-05-03T14:00:00\", \"end_time\": \"2024-05-03T16:00:00\", \"location\": \"La Rambla, 08002 Barcelona, Spain\", \"cost\": null}, {\"name\": \"Dinner at Can Culleretes\", \"start_time\": \"2024-05-03T19:00:00\", \"end_time\": \"2024-05-03T21:00:00\", \"location\": \"Can Culleretes, Carrer d'en Quintana, 5, 08002 Barcelona, Spain\", \"cost\": 40}, {\"name\": \"Visit Casa Batll\\u00f3\", \"start_time\": \"2024-05-04T09:00:00\", \"end_time\": \"2024-05-04T11:00:00\", \"location\": \"Casa Batll\\u00f3, Passeig de Gr\\u00e0cia, 43, 08007 Barcelona, Spain\", \"cost\": 25}, {\"name\": \"Explore Passeig de Gr\\u00e0cia\", \"start_time\": \"2024-05-04T11:30:00\", \"end_time\": \"2024-05-04T13:00:00\", \"location\": \"Passeig de Gr\\u00e0cia, 08007 Barcelona, Spain\", \"cost\": null}, {\"name\": \"Lunch at Cervecer\\u00eda Catalana\", \"start_time\": \"2024-05-04T13:30:00\", \"end_time\": \"2024-05-04T14:30:00\", \"location\": \"Cervecer\\u00eda Catalana, Carrer de Mallorca, 236, 08008 Barcelona, Spain\", \"cost\": 30}, {\"name\": \"Visit Camp Nou\", \"start_time\": \"2024-05-04T15:00:00\", \"end_time\": \"2024-05-04T17:00:00\", \"location\": \"Camp Nou, Carrer d'Aristides Maillol, 12, 08028 Barcelona, Spain\", \"cost\": 28}, {\"name\": \"Dinner at Tickets\", \"start_time\": \"2024-05-04T19:00:00\", \"end_time\": \"2024-05-04T21:00:00\", \"location\": \"Tickets, Avinguda del Paral\\u00b7lel, 164, 08015 Barcelona, Spain\", \"cost\": 100}, {\"name\": \"Relax at Barceloneta Beach\", \"start_time\": \"2024-05-05T10:00:00\", \"end_time\": \"2024-05-05T12:00:00\", \"location\": \"Barceloneta Beach, Passeig Mar\\u00edtim de la Barceloneta, 08003 Barcelona, Spain\", \"cost\": null}, {\"name\": \"Lunch at La Brisa\", \"start_time\": \"2024-05-05T12:30:00\", \"end_time\": \"2024-05-05T13:30:00\", \"location\": \"La Brisa, Passeig de Joan de Borb\\u00f3, 33, 08003 Barcelona, Spain\", \"cost\": 30}, {\"name\": \"Visit the Magic Fountain of Montju\\u00efc\", \"start_time\": \"2024-05-05T14:00:00\", \"end_time\": \"2024-05-05T16:00:00\", \"location\": \"Magic Fountain of Montju\\u00efc, Pla\\u00e7a de Carles Bu\\u00efgas, 1, 08038 Barcelona, Spain\", \"cost\": null}, {\"name\": \"Dinner at La Fonda\", \"start_time\": \"2024-05-05T19:00:00\", \"end_time\": \"2024-05-05T21:00:00\", \"location\": \"La Fonda, Carrer de la Palla, 10, 08002 Barcelona, Spain\", \"cost\": 35}, {\"name\": \"Pack and Leisure Time\", \"start_time\": \"2024-05-06T09:00:00\", \"end_time\": \"2024-05-06T12:00:00\", \"location\": \"Accommodation\", \"cost\": null}, {\"name\": \"Visit Mercat de Sant Josep de la Boqueria\", \"start_time\": \"2024-05-06T12:30:00\", \"end_time\": \"2024-05-06T14:00:00\", \"location\": \"Mercat de Sant Josep de la Boqueria, La Rambla, 91, 08001 Barcelona, Spain\", \"cost\": null}, {\"name\": \"Lunch at El Quim de la Boqueria\", \"start_time\": \"2024-05-06T14:30:00\", \"end_time\": \"2024-05-06T15:30:00\", \"location\": \"El Quim de la Boqueria, La Rambla, 91, 08001 Barcelona, Spain\", \"cost\": 25}, {\"name\": \"Last-minute Shopping\", \"start_time\": \"2024-05-06T16:00:00\", \"end_time\": \"2024-05-06T18\"}]}. Got: 2 validation errors for Itinerary\n",
      "activities.23.location\n",
      "  Field required [type=missing, input_value={'name': 'Last-minute Sho..._time': '2024-05-06T18'}, input_type=dict]\n",
      "    For further information visit https://errors.pydantic.dev/2.8/v/missing\n",
      "transports\n",
      "  Field required [type=missing, input_value={'traveler_name': 'John D...ime': '2024-05-06T18'}]}, input_type=dict]\n",
      "    For further information visit https://errors.pydantic.dev/2.8/v/missing\u001b[0m\n"
     ]
    },
    {
     "name": "stdout",
     "output_type": "stream",
     "text": [
      "Total errors: 0\n"
     ]
    }
   ],
   "source": [
    "error_counter = 0\n",
    "tasks = [\n",
    "    generate(pair=pair, sample_num=sample_num)\n",
    "    for pair in pairs\n",
    "]\n",
    "\n",
    "all_results = []\n",
    "try:\n",
    "    results, _ = await asyncio.gather(*tasks)\n",
    "    for result in results:\n",
    "        all_results.extend(result)\n",
    "except Exception as e:\n",
    "    print(f\"Error processing a chunk: {e}\")\n",
    "    error_counter += 1\n",
    "\n",
    "print(f\"Total errors: {error_counter}\")"
   ]
  },
  {
   "cell_type": "code",
   "execution_count": 4,
   "metadata": {},
   "outputs": [
    {
     "data": {
      "text/plain": [
       "{'input': 'You are a name and surname extractor. Your task is to identify and extract the names and surnames of characters from the given text.\\n### Input:\\nIn the quaint town of Maplewood, two friends, Emily Parker and Jake Thompson, spent their afternoons in the local library. One rainy Tuesday, as the sound of raindrops pattered against the windows, Emily discovered an old, dusty book titled \"Mysteries of Maplewood.\" \\n\\n\"Jake, look at this!\" she exclaimed, brushing off the thick layer of dust. Intrigued, Jake leaned over her shoulder. \"What’s so special about it?\" he asked, adjusting his glasses. \\n\\nEmily opened the book to reveal faded maps and handwritten notes. \"It seems to contain secrets about the town\\'s history,\" she said, her eyes sparkling with excitement. \\n\\nJust then, Mrs. Hargrove, the librarian, approached them. \"Ah, I see you\\'ve found the legend of the Maplewood treasure!\" she said, her eyes twinkling. \"Many have sought it, but few have succeeded.\" \\n\\nJake leaned closer, whispering, \"Do you think we could find it?\" \\n\\nEmily grinned, her adventurous spirit ignited. \"Why not? Let’s uncover Maplewood’s mystery!\" With determination, the duo set off on a quest that would change their lives forever.\\n\\n### Instructions:\\n1. Extract characters\\' names and surnames clearly.\\n2. Ensure that the JSON file contains a list of unique name-surname pairs (no duplicates).\\n\\n### Format Instructions:\\n1. Do NOT include headers, comments, or any additional text—only generate the JSON file.\\n2. Strictly adhere to the following JSON format:\\nThe output should be formatted as a JSON instance that conforms to the JSON schema below.\\n\\nAs an example, for the schema {\"properties\": {\"foo\": {\"title\": \"Foo\", \"description\": \"a list of strings\", \"type\": \"array\", \"items\": {\"type\": \"string\"}}}, \"required\": [\"foo\"]}\\nthe object {\"foo\": [\"bar\", \"baz\"]} is a well-formatted instance of the schema. The object {\"properties\": {\"foo\": [\"bar\", \"baz\"]}} is not well-formatted.\\n\\nHere is the output schema:\\n```\\n{\"$defs\": {\"FullName\": {\"properties\": {\"name\": {\"description\": \"Name of the character\", \"title\": \"Name\", \"type\": \"string\"}, \"surname\": {\"description\": \"Surname of the character\", \"title\": \"Surname\", \"type\": \"string\"}}, \"required\": [\"name\", \"surname\"], \"title\": \"FullName\", \"type\": \"object\"}}, \"properties\": {\"fullname_list\": {\"description\": \"List of full names for every character\", \"items\": {\"$ref\": \"#/$defs/FullName\"}, \"title\": \"Fullname List\", \"type\": \"array\"}}, \"required\": [\"fullname_list\"]}\\n```\\n\\n### Generated JSON file:\\n',\n",
       " 'output': '{\\n  \"fullname_list\": [\\n    {\\n      \"name\": \"Emily\",\\n      \"surname\": \"Parker\"\\n    },\\n    {\\n      \"name\": \"Jake\",\\n      \"surname\": \"Thompson\"\\n    },\\n    {\\n      \"name\": \"Mrs.\",\\n      \"surname\": \"Hargrove\"\\n    }\\n  ]\\n}'}"
      ]
     },
     "execution_count": 4,
     "metadata": {},
     "output_type": "execute_result"
    }
   ],
   "source": [
    "all_results[0]"
   ]
  },
  {
   "cell_type": "code",
   "execution_count": 5,
   "metadata": {},
   "outputs": [],
   "source": [
    "import json\n",
    "\n",
    "with open('data/eval_dataset.json', 'w', encoding='utf-8') as f:\n",
    "    for item in all_results:\n",
    "        json.dump(item, f, ensure_ascii=False)\n",
    "        f.write('\\n')"
   ]
  }
 ],
 "metadata": {
  "kernelspec": {
   "display_name": "ai",
   "language": "python",
   "name": "python3"
  },
  "language_info": {
   "codemirror_mode": {
    "name": "ipython",
    "version": 3
   },
   "file_extension": ".py",
   "mimetype": "text/x-python",
   "name": "python",
   "nbconvert_exporter": "python",
   "pygments_lexer": "ipython3",
   "version": "3.11.9"
  }
 },
 "nbformat": 4,
 "nbformat_minor": 2
}
